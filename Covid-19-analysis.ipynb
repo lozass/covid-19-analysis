{
 "cells": [
  {
   "cell_type": "markdown",
   "metadata": {},
   "source": [
    "# Covid-19 Analysis"
   ]
  },
  {
   "cell_type": "markdown",
   "metadata": {},
   "source": [
    "<h4>Setup and read dataset file. Souce in Kaggle, \"imdevskp/corona-virus-report\"\n",
    "<h5>    \n",
    "    Plotly is required. You'll need a username and corresponding api_key to connect to it and generate the plots online."
   ]
  },
  {
   "cell_type": "code",
   "execution_count": 15,
   "metadata": {},
   "outputs": [],
   "source": [
    "import chart_studio, zipfile, math\n",
    "import numpy as np\n",
    "import pandas as pd\n",
    "import chart_studio.plotly as py\n",
    "import plotly.graph_objects as go\n",
    "import plotly.io as pio"
   ]
  },
  {
   "cell_type": "code",
   "execution_count": 16,
   "metadata": {},
   "outputs": [],
   "source": [
    "initable = pd.read_table('covid-19.ini', delimiter=',', dtype={'Key':str, 'Value':str})\n",
    "chart_studio.tools.set_credentials_file(username=initable.iloc[0,1], api_key=initable.iloc[1,1])\n",
    "z = zipfile.ZipFile(initable.iloc[2,1])\n",
    "dataset = pd.read_csv(z.open(initable.iloc[3,1]))"
   ]
  },
  {
   "cell_type": "code",
   "execution_count": 17,
   "metadata": {},
   "outputs": [],
   "source": [
    "del dataset[\"Lat\"]\n",
    "del dataset[\"Long\"]\n",
    "dataset.rename({\"Province/State\": \"Province\"}, axis=1, inplace=True)\n",
    "dataset.rename({\"Country/Region\": \"Country\"}, axis=1, inplace=True)\n",
    "interestingCountries=[\"France\",\"Brazil\", \"US\", \"Italy\", \"Spain\", \"Japan\", \"Korea\"]\n",
    "series = []"
   ]
  },
  {
   "cell_type": "markdown",
   "metadata": {},
   "source": [
    "<h4>drop non-interesting Countries"
   ]
  },
  {
   "cell_type": "code",
   "execution_count": 18,
   "metadata": {},
   "outputs": [
    {
     "data": {
      "text/html": [
       "<div>\n",
       "<style scoped>\n",
       "    .dataframe tbody tr th:only-of-type {\n",
       "        vertical-align: middle;\n",
       "    }\n",
       "\n",
       "    .dataframe tbody tr th {\n",
       "        vertical-align: top;\n",
       "    }\n",
       "\n",
       "    .dataframe thead th {\n",
       "        text-align: right;\n",
       "    }\n",
       "</style>\n",
       "<table border=\"1\" class=\"dataframe\">\n",
       "  <thead>\n",
       "    <tr style=\"text-align: right;\">\n",
       "      <th></th>\n",
       "      <th>Province</th>\n",
       "      <th>Country</th>\n",
       "      <th>Date</th>\n",
       "      <th>Confirmed</th>\n",
       "      <th>Deaths</th>\n",
       "      <th>Recovered</th>\n",
       "    </tr>\n",
       "  </thead>\n",
       "  <tbody>\n",
       "    <tr>\n",
       "      <th>28</th>\n",
       "      <td>NaN</td>\n",
       "      <td>Brazil</td>\n",
       "      <td>1/22/20</td>\n",
       "      <td>0</td>\n",
       "      <td>0</td>\n",
       "      <td>0</td>\n",
       "    </tr>\n",
       "    <tr>\n",
       "      <th>107</th>\n",
       "      <td>French Guiana</td>\n",
       "      <td>France</td>\n",
       "      <td>1/22/20</td>\n",
       "      <td>0</td>\n",
       "      <td>0</td>\n",
       "      <td>0</td>\n",
       "    </tr>\n",
       "    <tr>\n",
       "      <th>108</th>\n",
       "      <td>French Polynesia</td>\n",
       "      <td>France</td>\n",
       "      <td>1/22/20</td>\n",
       "      <td>0</td>\n",
       "      <td>0</td>\n",
       "      <td>0</td>\n",
       "    </tr>\n",
       "    <tr>\n",
       "      <th>109</th>\n",
       "      <td>Guadeloupe</td>\n",
       "      <td>France</td>\n",
       "      <td>1/22/20</td>\n",
       "      <td>0</td>\n",
       "      <td>0</td>\n",
       "      <td>0</td>\n",
       "    </tr>\n",
       "    <tr>\n",
       "      <th>110</th>\n",
       "      <td>Mayotte</td>\n",
       "      <td>France</td>\n",
       "      <td>1/22/20</td>\n",
       "      <td>0</td>\n",
       "      <td>0</td>\n",
       "      <td>0</td>\n",
       "    </tr>\n",
       "    <tr>\n",
       "      <th>...</th>\n",
       "      <td>...</td>\n",
       "      <td>...</td>\n",
       "      <td>...</td>\n",
       "      <td>...</td>\n",
       "      <td>...</td>\n",
       "      <td>...</td>\n",
       "    </tr>\n",
       "    <tr>\n",
       "      <th>19377</th>\n",
       "      <td>NaN</td>\n",
       "      <td>Italy</td>\n",
       "      <td>4/5/20</td>\n",
       "      <td>128948</td>\n",
       "      <td>15887</td>\n",
       "      <td>21815</td>\n",
       "    </tr>\n",
       "    <tr>\n",
       "      <th>19379</th>\n",
       "      <td>NaN</td>\n",
       "      <td>Japan</td>\n",
       "      <td>4/5/20</td>\n",
       "      <td>3139</td>\n",
       "      <td>77</td>\n",
       "      <td>514</td>\n",
       "    </tr>\n",
       "    <tr>\n",
       "      <th>19441</th>\n",
       "      <td>NaN</td>\n",
       "      <td>Spain</td>\n",
       "      <td>4/5/20</td>\n",
       "      <td>131646</td>\n",
       "      <td>12641</td>\n",
       "      <td>38080</td>\n",
       "    </tr>\n",
       "    <tr>\n",
       "      <th>19465</th>\n",
       "      <td>NaN</td>\n",
       "      <td>US</td>\n",
       "      <td>4/5/20</td>\n",
       "      <td>337072</td>\n",
       "      <td>9619</td>\n",
       "      <td>17448</td>\n",
       "    </tr>\n",
       "    <tr>\n",
       "      <th>19497</th>\n",
       "      <td>Saint Pierre and Miquelon</td>\n",
       "      <td>France</td>\n",
       "      <td>4/5/20</td>\n",
       "      <td>1</td>\n",
       "      <td>0</td>\n",
       "      <td>0</td>\n",
       "    </tr>\n",
       "  </tbody>\n",
       "</table>\n",
       "<p>1200 rows × 6 columns</p>\n",
       "</div>"
      ],
      "text/plain": [
       "                        Province Country     Date  Confirmed  Deaths  \\\n",
       "28                           NaN  Brazil  1/22/20          0       0   \n",
       "107                French Guiana  France  1/22/20          0       0   \n",
       "108             French Polynesia  France  1/22/20          0       0   \n",
       "109                   Guadeloupe  France  1/22/20          0       0   \n",
       "110                      Mayotte  France  1/22/20          0       0   \n",
       "...                          ...     ...      ...        ...     ...   \n",
       "19377                        NaN   Italy   4/5/20     128948   15887   \n",
       "19379                        NaN   Japan   4/5/20       3139      77   \n",
       "19441                        NaN   Spain   4/5/20     131646   12641   \n",
       "19465                        NaN      US   4/5/20     337072    9619   \n",
       "19497  Saint Pierre and Miquelon  France   4/5/20          1       0   \n",
       "\n",
       "       Recovered  \n",
       "28             0  \n",
       "107            0  \n",
       "108            0  \n",
       "109            0  \n",
       "110            0  \n",
       "...          ...  \n",
       "19377      21815  \n",
       "19379        514  \n",
       "19441      38080  \n",
       "19465      17448  \n",
       "19497          0  \n",
       "\n",
       "[1200 rows x 6 columns]"
      ]
     },
     "execution_count": 18,
     "metadata": {},
     "output_type": "execute_result"
    }
   ],
   "source": [
    "dataset=dataset[dataset.Country.isin(interestingCountries)]\n",
    "dataset"
   ]
  },
  {
   "cell_type": "markdown",
   "metadata": {},
   "source": [
    "<h5>Group states in a country"
   ]
  },
  {
   "cell_type": "code",
   "execution_count": 19,
   "metadata": {},
   "outputs": [
    {
     "data": {
      "text/html": [
       "<div>\n",
       "<style scoped>\n",
       "    .dataframe tbody tr th:only-of-type {\n",
       "        vertical-align: middle;\n",
       "    }\n",
       "\n",
       "    .dataframe tbody tr th {\n",
       "        vertical-align: top;\n",
       "    }\n",
       "\n",
       "    .dataframe thead th {\n",
       "        text-align: right;\n",
       "    }\n",
       "</style>\n",
       "<table border=\"1\" class=\"dataframe\">\n",
       "  <thead>\n",
       "    <tr style=\"text-align: right;\">\n",
       "      <th></th>\n",
       "      <th>Date</th>\n",
       "      <th>Confirmed</th>\n",
       "    </tr>\n",
       "    <tr>\n",
       "      <th>Country</th>\n",
       "      <th></th>\n",
       "      <th></th>\n",
       "    </tr>\n",
       "  </thead>\n",
       "  <tbody>\n",
       "    <tr>\n",
       "      <th>France</th>\n",
       "      <td>2020-04-04</td>\n",
       "      <td>90848</td>\n",
       "    </tr>\n",
       "    <tr>\n",
       "      <th>Italy</th>\n",
       "      <td>2020-04-05</td>\n",
       "      <td>128948</td>\n",
       "    </tr>\n",
       "    <tr>\n",
       "      <th>Japan</th>\n",
       "      <td>2020-04-05</td>\n",
       "      <td>3139</td>\n",
       "    </tr>\n",
       "    <tr>\n",
       "      <th>France</th>\n",
       "      <td>2020-04-05</td>\n",
       "      <td>93773</td>\n",
       "    </tr>\n",
       "    <tr>\n",
       "      <th>Brazil</th>\n",
       "      <td>2020-04-05</td>\n",
       "      <td>11130</td>\n",
       "    </tr>\n",
       "    <tr>\n",
       "      <th>Spain</th>\n",
       "      <td>2020-04-05</td>\n",
       "      <td>131646</td>\n",
       "    </tr>\n",
       "    <tr>\n",
       "      <th>US</th>\n",
       "      <td>2020-04-05</td>\n",
       "      <td>337072</td>\n",
       "    </tr>\n",
       "  </tbody>\n",
       "</table>\n",
       "</div>"
      ],
      "text/plain": [
       "              Date  Confirmed\n",
       "Country                      \n",
       "France  2020-04-04      90848\n",
       "Italy   2020-04-05     128948\n",
       "Japan   2020-04-05       3139\n",
       "France  2020-04-05      93773\n",
       "Brazil  2020-04-05      11130\n",
       "Spain   2020-04-05     131646\n",
       "US      2020-04-05     337072"
      ]
     },
     "execution_count": 19,
     "metadata": {},
     "output_type": "execute_result"
    }
   ],
   "source": [
    "confirmedresultset=dataset.groupby(['Country','Date']).agg({'Confirmed': sum})\n",
    "confirmedresultset.reset_index(level=['Date'], inplace=True) #put Date back to column\n",
    "confirmedresultset['Date']=pd.to_datetime(confirmedresultset['Date'], format='%m/%d/%y') #convert column to type Date\n",
    "confirmedresultset=confirmedresultset.sort_values(['Date'], ascending=True) #sort by Date\n",
    "confirmedresultset.tail(len(interestingCountries))"
   ]
  },
  {
   "cell_type": "code",
   "execution_count": 20,
   "metadata": {},
   "outputs": [
    {
     "data": {
      "text/html": [
       "<div>\n",
       "<style scoped>\n",
       "    .dataframe tbody tr th:only-of-type {\n",
       "        vertical-align: middle;\n",
       "    }\n",
       "\n",
       "    .dataframe tbody tr th {\n",
       "        vertical-align: top;\n",
       "    }\n",
       "\n",
       "    .dataframe thead th {\n",
       "        text-align: right;\n",
       "    }\n",
       "</style>\n",
       "<table border=\"1\" class=\"dataframe\">\n",
       "  <thead>\n",
       "    <tr style=\"text-align: right;\">\n",
       "      <th></th>\n",
       "      <th>Date</th>\n",
       "      <th>Deaths</th>\n",
       "    </tr>\n",
       "    <tr>\n",
       "      <th>Country</th>\n",
       "      <th></th>\n",
       "      <th></th>\n",
       "    </tr>\n",
       "  </thead>\n",
       "  <tbody>\n",
       "    <tr>\n",
       "      <th>France</th>\n",
       "      <td>2020-04-04</td>\n",
       "      <td>7574</td>\n",
       "    </tr>\n",
       "    <tr>\n",
       "      <th>Italy</th>\n",
       "      <td>2020-04-05</td>\n",
       "      <td>15887</td>\n",
       "    </tr>\n",
       "    <tr>\n",
       "      <th>Japan</th>\n",
       "      <td>2020-04-05</td>\n",
       "      <td>77</td>\n",
       "    </tr>\n",
       "    <tr>\n",
       "      <th>France</th>\n",
       "      <td>2020-04-05</td>\n",
       "      <td>8093</td>\n",
       "    </tr>\n",
       "    <tr>\n",
       "      <th>Brazil</th>\n",
       "      <td>2020-04-05</td>\n",
       "      <td>486</td>\n",
       "    </tr>\n",
       "    <tr>\n",
       "      <th>Spain</th>\n",
       "      <td>2020-04-05</td>\n",
       "      <td>12641</td>\n",
       "    </tr>\n",
       "    <tr>\n",
       "      <th>US</th>\n",
       "      <td>2020-04-05</td>\n",
       "      <td>9619</td>\n",
       "    </tr>\n",
       "  </tbody>\n",
       "</table>\n",
       "</div>"
      ],
      "text/plain": [
       "              Date  Deaths\n",
       "Country                   \n",
       "France  2020-04-04    7574\n",
       "Italy   2020-04-05   15887\n",
       "Japan   2020-04-05      77\n",
       "France  2020-04-05    8093\n",
       "Brazil  2020-04-05     486\n",
       "Spain   2020-04-05   12641\n",
       "US      2020-04-05    9619"
      ]
     },
     "execution_count": 20,
     "metadata": {},
     "output_type": "execute_result"
    }
   ],
   "source": [
    "deathsresultset=dataset.groupby(['Country','Date']).agg({'Deaths': sum})\n",
    "deathsresultset.reset_index(level=['Date'], inplace=True) #put Date back to column\n",
    "deathsresultset['Date']=pd.to_datetime(deathsresultset['Date'], format='%m/%d/%y') #convert column to type Date\n",
    "deathsresultset=deathsresultset.sort_values(['Date'], ascending=True) #sort by Date\n",
    "deathsresultset.tail(len(interestingCountries))"
   ]
  },
  {
   "cell_type": "code",
   "execution_count": 21,
   "metadata": {},
   "outputs": [
    {
     "data": {
      "text/html": [
       "<div>\n",
       "<style scoped>\n",
       "    .dataframe tbody tr th:only-of-type {\n",
       "        vertical-align: middle;\n",
       "    }\n",
       "\n",
       "    .dataframe tbody tr th {\n",
       "        vertical-align: top;\n",
       "    }\n",
       "\n",
       "    .dataframe thead th {\n",
       "        text-align: right;\n",
       "    }\n",
       "</style>\n",
       "<table border=\"1\" class=\"dataframe\">\n",
       "  <thead>\n",
       "    <tr style=\"text-align: right;\">\n",
       "      <th></th>\n",
       "      <th>Date</th>\n",
       "      <th>Recovered</th>\n",
       "    </tr>\n",
       "    <tr>\n",
       "      <th>Country</th>\n",
       "      <th></th>\n",
       "      <th></th>\n",
       "    </tr>\n",
       "  </thead>\n",
       "  <tbody>\n",
       "    <tr>\n",
       "      <th>France</th>\n",
       "      <td>2020-04-04</td>\n",
       "      <td>15572</td>\n",
       "    </tr>\n",
       "    <tr>\n",
       "      <th>Italy</th>\n",
       "      <td>2020-04-05</td>\n",
       "      <td>21815</td>\n",
       "    </tr>\n",
       "    <tr>\n",
       "      <th>Japan</th>\n",
       "      <td>2020-04-05</td>\n",
       "      <td>514</td>\n",
       "    </tr>\n",
       "    <tr>\n",
       "      <th>France</th>\n",
       "      <td>2020-04-05</td>\n",
       "      <td>16349</td>\n",
       "    </tr>\n",
       "    <tr>\n",
       "      <th>Brazil</th>\n",
       "      <td>2020-04-05</td>\n",
       "      <td>127</td>\n",
       "    </tr>\n",
       "    <tr>\n",
       "      <th>Spain</th>\n",
       "      <td>2020-04-05</td>\n",
       "      <td>38080</td>\n",
       "    </tr>\n",
       "    <tr>\n",
       "      <th>US</th>\n",
       "      <td>2020-04-05</td>\n",
       "      <td>17448</td>\n",
       "    </tr>\n",
       "  </tbody>\n",
       "</table>\n",
       "</div>"
      ],
      "text/plain": [
       "              Date  Recovered\n",
       "Country                      \n",
       "France  2020-04-04      15572\n",
       "Italy   2020-04-05      21815\n",
       "Japan   2020-04-05        514\n",
       "France  2020-04-05      16349\n",
       "Brazil  2020-04-05        127\n",
       "Spain   2020-04-05      38080\n",
       "US      2020-04-05      17448"
      ]
     },
     "execution_count": 21,
     "metadata": {},
     "output_type": "execute_result"
    }
   ],
   "source": [
    "recoveredresultset=dataset.groupby(['Country','Date']).agg({'Recovered': sum})\n",
    "recoveredresultset.reset_index(level=['Date'], inplace=True) #put Date back to column\n",
    "recoveredresultset['Date']=pd.to_datetime(recoveredresultset['Date'], format='%m/%d/%y') #convert column to type Date\n",
    "recoveredresultset=recoveredresultset.sort_values(['Date'], ascending=True) #sort by Date\n",
    "recoveredresultset.tail(len(interestingCountries))"
   ]
  },
  {
   "cell_type": "markdown",
   "metadata": {},
   "source": [
    "<h4>Data for confirmed cases graphic"
   ]
  },
  {
   "cell_type": "code",
   "execution_count": 22,
   "metadata": {},
   "outputs": [],
   "source": [
    "series = []\n",
    "for country in interestingCountries: \n",
    "    series.append(\n",
    "        go.Scatter(\n",
    "            x=confirmedresultset[confirmedresultset.index == country].Date, \n",
    "            y=confirmedresultset[confirmedresultset.index == country].Confirmed, \n",
    "            name=country+\" Confirmed\", \n",
    "            mode=\"markers+lines\",\n",
    "            marker={\"symbol\":\"circle\", \"size\": 5},\n",
    "            )\n",
    "        )"
   ]
  },
  {
   "cell_type": "code",
   "execution_count": 23,
   "metadata": {},
   "outputs": [
    {
     "data": {
      "text/html": [
       "\n",
       "        <iframe\n",
       "            width=\"100%\"\n",
       "            height=\"525px\"\n",
       "            src=\"https://plotly.com/~lozass/430.embed\"\n",
       "            frameborder=\"0\"\n",
       "            allowfullscreen\n",
       "        ></iframe>\n",
       "        "
      ],
      "text/plain": [
       "<IPython.lib.display.IFrame at 0xc7cee50>"
      ]
     },
     "execution_count": 23,
     "metadata": {},
     "output_type": "execute_result"
    }
   ],
   "source": [
    "fig = go.Figure(series)\n",
    "fig.update_layout(title_text='COVID-19 Confirmed cases by country')\n",
    "fig.update_xaxes(title_text='Days')\n",
    "fig.update_yaxes(title_text='Confirmed cases', type='log')\n",
    "fig.add_annotation(\n",
    "        x='2020-03-24',\n",
    "        y=math.log(2247,10), xref=\"x\", yref=\"y\",\n",
    "        text=\"SP lockdown\", textangle = 330, showarrow=True, arrowcolor='grey')\n",
    "fig.add_annotation(\n",
    "        x='2020-03-09',\n",
    "        y=math.log(9172,10), xref=\"x\", yref=\"y\",\n",
    "        text=\"Italy lockdown\", textangle = 330, showarrow=True, arrowcolor='grey')\n",
    "fig.add_annotation(\n",
    "        x='2020-03-11',\n",
    "        y=math.log(2293,10), xref=\"x\", yref=\"y\",\n",
    "        text=\"France lockdown\", textangle = 330, showarrow=True, arrowcolor='grey')\n",
    "fig.add_annotation(\n",
    "        x='2020-03-19',\n",
    "        y=math.log(13677,10), xref=\"x\", yref=\"y\",\n",
    "        text=\"Calif. lockdown\", textangle = 330, showarrow=True, arrowcolor='grey')\n",
    "py.iplot(fig, file='covid-19.html', auto_open=False)"
   ]
  },
  {
   "cell_type": "markdown",
   "metadata": {},
   "source": [
    "Data for Death cases"
   ]
  },
  {
   "cell_type": "code",
   "execution_count": 24,
   "metadata": {},
   "outputs": [],
   "source": [
    "series = []\n",
    "for country in interestingCountries: \n",
    "    series.append(\n",
    "        go.Scatter(\n",
    "            x=deathsresultset[deathsresultset.index == country].Date, \n",
    "            y=deathsresultset[deathsresultset.index == country].Deaths, \n",
    "            name=country+\" Deaths\",\n",
    "            mode=\"markers+lines\",\n",
    "            marker={\"symbol\":\"circle\", \"size\": 5},\n",
    "        )\n",
    "    )"
   ]
  },
  {
   "cell_type": "code",
   "execution_count": 25,
   "metadata": {},
   "outputs": [
    {
     "data": {
      "text/html": [
       "\n",
       "        <iframe\n",
       "            width=\"100%\"\n",
       "            height=\"525px\"\n",
       "            src=\"https://plotly.com/~lozass/432.embed\"\n",
       "            frameborder=\"0\"\n",
       "            allowfullscreen\n",
       "        ></iframe>\n",
       "        "
      ],
      "text/plain": [
       "<IPython.lib.display.IFrame at 0xc6ac850>"
      ]
     },
     "execution_count": 25,
     "metadata": {},
     "output_type": "execute_result"
    }
   ],
   "source": [
    "fig = go.Figure(series)\n",
    "fig.update_layout(title_text='COVID-19 Deaths by country')\n",
    "fig.update_xaxes(title_text='Days')\n",
    "fig.update_yaxes(title_text='Deaths', type='log')\n",
    "py.iplot(fig, file='covid-19.html', auto_open=False)"
   ]
  },
  {
   "cell_type": "markdown",
   "metadata": {},
   "source": [
    "<h4>Recovered cases"
   ]
  },
  {
   "cell_type": "code",
   "execution_count": 26,
   "metadata": {},
   "outputs": [],
   "source": [
    "series = []\n",
    "for country in interestingCountries: \n",
    "    series.append(\n",
    "        go.Scatter(\n",
    "            x=recoveredresultset[recoveredresultset.index == country].Date, \n",
    "            y=recoveredresultset[recoveredresultset.index == country].Recovered, \n",
    "            name=country+\" Recovered\",\n",
    "            mode=\"markers+lines\",\n",
    "            marker={\"symbol\":\"circle\", \"size\": 5},\n",
    "        )\n",
    "    )"
   ]
  },
  {
   "cell_type": "code",
   "execution_count": 27,
   "metadata": {},
   "outputs": [
    {
     "data": {
      "text/html": [
       "\n",
       "        <iframe\n",
       "            width=\"100%\"\n",
       "            height=\"525px\"\n",
       "            src=\"https://plotly.com/~lozass/434.embed\"\n",
       "            frameborder=\"0\"\n",
       "            allowfullscreen\n",
       "        ></iframe>\n",
       "        "
      ],
      "text/plain": [
       "<IPython.lib.display.IFrame at 0xc698cb8>"
      ]
     },
     "execution_count": 27,
     "metadata": {},
     "output_type": "execute_result"
    }
   ],
   "source": [
    "fig = go.Figure(series)\n",
    "fig.update_layout(title_text='COVID-19 Recovered by country')\n",
    "fig.update_xaxes(title_text='Days')\n",
    "fig.update_yaxes(title_text='Recovered', type='log')\n",
    "py.iplot(fig, file='covid-19.html', auto_open=False)"
   ]
  },
  {
   "cell_type": "code",
   "execution_count": null,
   "metadata": {},
   "outputs": [],
   "source": []
  },
  {
   "cell_type": "code",
   "execution_count": null,
   "metadata": {},
   "outputs": [],
   "source": []
  },
  {
   "cell_type": "code",
   "execution_count": null,
   "metadata": {},
   "outputs": [],
   "source": []
  }
 ],
 "metadata": {
  "kernelspec": {
   "display_name": "Python 3",
   "language": "python",
   "name": "python3"
  },
  "language_info": {
   "codemirror_mode": {
    "name": "ipython",
    "version": 3
   },
   "file_extension": ".py",
   "mimetype": "text/x-python",
   "name": "python",
   "nbconvert_exporter": "python",
   "pygments_lexer": "ipython3",
   "version": "3.8.2"
  }
 },
 "nbformat": 4,
 "nbformat_minor": 4
}
