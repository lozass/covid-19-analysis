{
 "cells": [
  {
   "cell_type": "markdown",
   "metadata": {},
   "source": [
    "# Covid-19 Analysis"
   ]
  },
  {
   "cell_type": "markdown",
   "metadata": {},
   "source": [
    "Setup and read file"
   ]
  },
  {
   "cell_type": "code",
   "execution_count": 9,
   "metadata": {},
   "outputs": [],
   "source": [
    "import numpy as np\n",
    "import pandas as pd\n",
    "import chart_studio\n",
    "import chart_studio.plotly as py\n",
    "import plotly.graph_objects as go\n",
    "import zipfile\n",
    "import plotly.io as pio\n",
    "chart_studio.tools.set_credentials_file(username='lozass', api_key='qDkEkg145rkHrcYt0mh0')\n",
    "# dataset = pd.read_csv('covid_19_clean_complete.csv')\n",
    "z = zipfile.ZipFile('corona-virus-report.zip')\n",
    "dataset = pd.read_csv(z.open('covid_19_clean_complete.csv'))\n",
    "del dataset[\"Lat\"]\n",
    "del dataset[\"Long\"]\n",
    "del dataset[\"Province/State\"]\n",
    "dataset.rename({\"Country/Region\": \"Country\"}, axis=1, inplace=True)\n",
    "interestingCountries=[\"Brazil\", \"US\", \"Italy\", \"Spain\"]\n",
    "series = []\n",
    "lines = pd.DataFrame(columns=interestingCountries)"
   ]
  },
  {
   "cell_type": "code",
   "execution_count": 10,
   "metadata": {},
   "outputs": [
    {
     "data": {
      "text/html": [
       "<div>\n",
       "<style scoped>\n",
       "    .dataframe tbody tr th:only-of-type {\n",
       "        vertical-align: middle;\n",
       "    }\n",
       "\n",
       "    .dataframe tbody tr th {\n",
       "        vertical-align: top;\n",
       "    }\n",
       "\n",
       "    .dataframe thead th {\n",
       "        text-align: right;\n",
       "    }\n",
       "</style>\n",
       "<table border=\"1\" class=\"dataframe\">\n",
       "  <thead>\n",
       "    <tr style=\"text-align: right;\">\n",
       "      <th></th>\n",
       "      <th>Country</th>\n",
       "      <th>Date</th>\n",
       "      <th>Confirmed</th>\n",
       "      <th>Deaths</th>\n",
       "      <th>Recovered</th>\n",
       "    </tr>\n",
       "  </thead>\n",
       "  <tbody>\n",
       "    <tr>\n",
       "      <th>0</th>\n",
       "      <td>Afghanistan</td>\n",
       "      <td>1/22/20</td>\n",
       "      <td>0</td>\n",
       "      <td>0</td>\n",
       "      <td>0</td>\n",
       "    </tr>\n",
       "    <tr>\n",
       "      <th>1</th>\n",
       "      <td>Albania</td>\n",
       "      <td>1/22/20</td>\n",
       "      <td>0</td>\n",
       "      <td>0</td>\n",
       "      <td>0</td>\n",
       "    </tr>\n",
       "    <tr>\n",
       "      <th>2</th>\n",
       "      <td>Algeria</td>\n",
       "      <td>1/22/20</td>\n",
       "      <td>0</td>\n",
       "      <td>0</td>\n",
       "      <td>0</td>\n",
       "    </tr>\n",
       "    <tr>\n",
       "      <th>3</th>\n",
       "      <td>Andorra</td>\n",
       "      <td>1/22/20</td>\n",
       "      <td>0</td>\n",
       "      <td>0</td>\n",
       "      <td>0</td>\n",
       "    </tr>\n",
       "    <tr>\n",
       "      <th>4</th>\n",
       "      <td>Angola</td>\n",
       "      <td>1/22/20</td>\n",
       "      <td>0</td>\n",
       "      <td>0</td>\n",
       "      <td>0</td>\n",
       "    </tr>\n",
       "  </tbody>\n",
       "</table>\n",
       "</div>"
      ],
      "text/plain": [
       "       Country     Date  Confirmed  Deaths  Recovered\n",
       "0  Afghanistan  1/22/20          0       0          0\n",
       "1      Albania  1/22/20          0       0          0\n",
       "2      Algeria  1/22/20          0       0          0\n",
       "3      Andorra  1/22/20          0       0          0\n",
       "4       Angola  1/22/20          0       0          0"
      ]
     },
     "execution_count": 10,
     "metadata": {},
     "output_type": "execute_result"
    }
   ],
   "source": [
    "dataset.head()"
   ]
  },
  {
   "cell_type": "markdown",
   "metadata": {},
   "source": [
    "Select interesting countries and create lines"
   ]
  },
  {
   "cell_type": "code",
   "execution_count": 11,
   "metadata": {},
   "outputs": [],
   "source": [
    "for country in interestingCountries:\n",
    "    lines[country]=dataset.Country == country"
   ]
  },
  {
   "cell_type": "code",
   "execution_count": 12,
   "metadata": {},
   "outputs": [
    {
     "name": "stdout",
     "output_type": "stream",
     "text": [
      "      Country     Date  Confirmed  Deaths  Recovered\n",
      "28     Brazil  1/22/20          0       0          0\n",
      "284    Brazil  1/23/20          0       0          0\n",
      "540    Brazil  1/24/20          0       0          0\n",
      "796    Brazil  1/25/20          0       0          0\n",
      "1052   Brazil  1/26/20          0       0          0\n",
      "...       ...      ...        ...     ...        ...\n",
      "17180  Brazil  3/29/20       4256     136          6\n",
      "17436  Brazil  3/30/20       4579     159        120\n",
      "17692  Brazil  3/31/20       5717     201        127\n",
      "17948  Brazil   4/1/20       6836     240        127\n",
      "18204  Brazil   4/2/20       8044     324        127\n",
      "\n",
      "[72 rows x 5 columns]\n"
     ]
    }
   ],
   "source": [
    "print(dataset[lines.Brazil])"
   ]
  },
  {
   "cell_type": "markdown",
   "metadata": {},
   "source": [
    "Data for confirmed cases graphic"
   ]
  },
  {
   "cell_type": "code",
   "execution_count": 26,
   "metadata": {},
   "outputs": [],
   "source": [
    "series = []\n",
    "for country in interestingCountries: \n",
    "    series.append(\n",
    "        go.Scatter(\n",
    "            x=dataset[lines[country]].Date, \n",
    "            y=dataset[lines[country]].Confirmed, \n",
    "            name=country+\" Confirmed\", \n",
    "            mode=\"markers+lines\",\n",
    "            )\n",
    "        )"
   ]
  },
  {
   "cell_type": "code",
   "execution_count": 27,
   "metadata": {},
   "outputs": [
    {
     "data": {
      "text/html": [
       "\n",
       "        <iframe\n",
       "            width=\"100%\"\n",
       "            height=\"525px\"\n",
       "            src=\"https://plotly.com/~lozass/116.embed\"\n",
       "            frameborder=\"0\"\n",
       "            allowfullscreen\n",
       "        ></iframe>\n",
       "        "
      ],
      "text/plain": [
       "<IPython.lib.display.IFrame at 0xe349af0>"
      ]
     },
     "execution_count": 27,
     "metadata": {},
     "output_type": "execute_result"
    }
   ],
   "source": [
    "fig = go.Figure(series)\n",
    "# fig = go.Figure(series)\n",
    "fig.update_layout(title_text='COVID-19 Confirmed cases by country')\n",
    "fig.update_xaxes(title_text='Days')\n",
    "fig.update_yaxes(title_text='Confirmed cases', type='log')\n",
    "py.iplot(fig, file='covid-19.html', auto_open=False)"
   ]
  },
  {
   "cell_type": "markdown",
   "metadata": {},
   "source": [
    "Data for Death cases"
   ]
  },
  {
   "cell_type": "code",
   "execution_count": 28,
   "metadata": {},
   "outputs": [],
   "source": [
    "series = []\n",
    "for country in interestingCountries: \n",
    "    series.append(\n",
    "        go.Scatter(\n",
    "            x=dataset[lines[country]].Date, \n",
    "            y=dataset[lines[country]].Deaths, \n",
    "            name=country+\" Deaths\",\n",
    "            mode=\"markers+lines\",\n",
    "        )\n",
    "    )"
   ]
  },
  {
   "cell_type": "code",
   "execution_count": 29,
   "metadata": {},
   "outputs": [
    {
     "data": {
      "text/html": [
       "\n",
       "        <iframe\n",
       "            width=\"100%\"\n",
       "            height=\"525px\"\n",
       "            src=\"https://plotly.com/~lozass/118.embed\"\n",
       "            frameborder=\"0\"\n",
       "            allowfullscreen\n",
       "        ></iframe>\n",
       "        "
      ],
      "text/plain": [
       "<IPython.lib.display.IFrame at 0xdb7d028>"
      ]
     },
     "execution_count": 29,
     "metadata": {},
     "output_type": "execute_result"
    }
   ],
   "source": [
    "fig = go.Figure(series)\n",
    "# fig = go.Figure(series)\n",
    "fig.update_layout(title_text='COVID-19 Deaths by country')\n",
    "fig.update_xaxes(title_text='Days')\n",
    "fig.update_yaxes(title_text='Deaths', type='log')\n",
    "py.iplot(fig, file='covid-19.html', auto_open=False)"
   ]
  },
  {
   "cell_type": "code",
   "execution_count": null,
   "metadata": {},
   "outputs": [],
   "source": []
  },
  {
   "cell_type": "code",
   "execution_count": null,
   "metadata": {},
   "outputs": [],
   "source": []
  },
  {
   "cell_type": "code",
   "execution_count": null,
   "metadata": {},
   "outputs": [],
   "source": []
  },
  {
   "cell_type": "code",
   "execution_count": null,
   "metadata": {},
   "outputs": [],
   "source": []
  },
  {
   "cell_type": "code",
   "execution_count": null,
   "metadata": {},
   "outputs": [],
   "source": []
  }
 ],
 "metadata": {
  "kernelspec": {
   "display_name": "Python 3",
   "language": "python",
   "name": "python3"
  },
  "language_info": {
   "codemirror_mode": {
    "name": "ipython",
    "version": 3
   },
   "file_extension": ".py",
   "mimetype": "text/x-python",
   "name": "python",
   "nbconvert_exporter": "python",
   "pygments_lexer": "ipython3",
   "version": "3.8.2"
  }
 },
 "nbformat": 4,
 "nbformat_minor": 4
}
